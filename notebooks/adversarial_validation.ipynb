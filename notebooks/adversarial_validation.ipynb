{
 "cells": [
  {
   "cell_type": "code",
   "execution_count": 1,
   "metadata": {},
   "outputs": [],
   "source": [
    "%load_ext autoreload\n",
    "%autoreload 2\n",
    "from IPython.core.interactiveshell import InteractiveShell\n",
    "InteractiveShell.ast_node_interactivity='all'"
   ]
  },
  {
   "cell_type": "code",
   "execution_count": 9,
   "metadata": {},
   "outputs": [],
   "source": [
    "import pandas as pd\n",
    "import numpy as np\n",
    "import feather\n",
    "import dask.array as da\n",
    "import pyarrow.parquet as pq"
   ]
  },
  {
   "cell_type": "code",
   "execution_count": 2,
   "metadata": {},
   "outputs": [
    {
     "name": "stderr",
     "output_type": "stream",
     "text": [
      "Using TensorFlow backend.\n"
     ]
    }
   ],
   "source": [
    "import keras\n",
    "import keras.backend as K\n",
    "from keras.layers import LSTM,Dropout,Dense,TimeDistributed,Conv1D,MaxPooling1D,Flatten\n",
    "from keras.models import Sequential\n",
    "import tensorflow as tf\n",
    "import gc\n",
    "from numba import jit\n",
    "from IPython.display import display, clear_output\n",
    "from tqdm import tqdm\n",
    "import matplotlib.pyplot as plt\n",
    "%matplotlib inline\n",
    "import seaborn as sns\n",
    "import sys\n",
    "sys.path.append('..')\n",
    "sns.set_style(\"whitegrid\")\n",
    "\n",
    "from sklearn.model_selection import train_test_split, StratifiedKFold\n",
    "from sklearn import metrics\n",
    "\n",
    "import utils\n",
    "import feature_extracter\n",
    "from vsb_signal_dataset import VsbSignalDataset\n",
    "from normalizer import Normalizer\n",
    "from models import modelutils"
   ]
  },
  {
   "cell_type": "code",
   "execution_count": 5,
   "metadata": {},
   "outputs": [],
   "source": [
    "batchsize = 128\n",
    "sample_size = 800000\n",
    "max_num = 127\n",
    "min_num = -128\n",
    "#n_dim = 160\n",
    "window_size = 5000\n",
    "stride = 5000"
   ]
  },
  {
   "cell_type": "code",
   "execution_count": 6,
   "metadata": {},
   "outputs": [],
   "source": [
    "dataset = VsbSignalDataset(mode='train')"
   ]
  },
  {
   "cell_type": "code",
   "execution_count": 7,
   "metadata": {},
   "outputs": [
    {
     "name": "stderr",
     "output_type": "stream",
     "text": [
      "  0%|          | 0/4 [00:00<?, ?it/s]"
     ]
    },
    {
     "name": "stdout",
     "output_type": "stream",
     "text": [
      "2178\n"
     ]
    },
    {
     "name": "stderr",
     "output_type": "stream",
     "text": [
      " 25%|██▌       | 1/4 [02:30<07:31, 150.66s/it]"
     ]
    },
    {
     "name": "stdout",
     "output_type": "stream",
     "text": [
      "4356\n"
     ]
    },
    {
     "name": "stderr",
     "output_type": "stream",
     "text": [
      " 50%|█████     | 2/4 [04:42<04:49, 144.99s/it]"
     ]
    },
    {
     "name": "stdout",
     "output_type": "stream",
     "text": [
      "6534\n"
     ]
    },
    {
     "name": "stderr",
     "output_type": "stream",
     "text": [
      " 75%|███████▌  | 3/4 [06:53<02:20, 140.75s/it]"
     ]
    },
    {
     "name": "stdout",
     "output_type": "stream",
     "text": [
      "8712\n"
     ]
    },
    {
     "name": "stderr",
     "output_type": "stream",
     "text": [
      "100%|██████████| 4/4 [09:05<00:00, 138.09s/it]\n"
     ]
    }
   ],
   "source": [
    "normalizer = Normalizer(min_num, max_num)\n",
    "X = feature_extracter.feature_extracter(feature_extracter.time_feature_extracter,\n",
    "                                        dataset, window_size=window_size, stride=stride, grouped=True, \n",
    "                                        normalizer=normalizer)"
   ]
  },
  {
   "cell_type": "code",
   "execution_count": 7,
   "metadata": {},
   "outputs": [
    {
     "name": "stderr",
     "output_type": "stream",
     "text": [
      "  0%|          | 0/5 [00:00<?, ?it/s]"
     ]
    },
    {
     "name": "stdout",
     "output_type": "stream",
     "text": [
      "5082\n"
     ]
    },
    {
     "name": "stderr",
     "output_type": "stream",
     "text": [
      " 20%|██        | 1/5 [05:15<21:01, 315.29s/it]"
     ]
    },
    {
     "name": "stdout",
     "output_type": "stream",
     "text": [
      "10164\n"
     ]
    },
    {
     "name": "stderr",
     "output_type": "stream",
     "text": [
      " 40%|████      | 2/5 [10:29<15:45, 315.06s/it]"
     ]
    },
    {
     "name": "stdout",
     "output_type": "stream",
     "text": [
      "15246\n"
     ]
    },
    {
     "name": "stderr",
     "output_type": "stream",
     "text": [
      " 60%|██████    | 3/5 [15:43<10:29, 314.56s/it]"
     ]
    },
    {
     "name": "stdout",
     "output_type": "stream",
     "text": [
      "20328\n"
     ]
    },
    {
     "name": "stderr",
     "output_type": "stream",
     "text": [
      " 80%|████████  | 4/5 [20:55<05:13, 313.83s/it]"
     ]
    },
    {
     "name": "stdout",
     "output_type": "stream",
     "text": [
      "20337\n"
     ]
    },
    {
     "name": "stderr",
     "output_type": "stream",
     "text": [
      "100%|██████████| 5/5 [20:58<00:00, 220.60s/it]\n"
     ]
    }
   ],
   "source": [
    "testdata = VsbSignalDataset(mode='test')\n",
    "X_test = feature_extracter.feature_extracter(feature_extracter.time_feature_extracter,\n",
    "                                             testdata, window_size=window_size,\n",
    "                                             stride=stride, grouped=True, \n",
    "                                             normalizer=normalizer)"
   ]
  },
  {
   "cell_type": "code",
   "execution_count": 8,
   "metadata": {},
   "outputs": [],
   "source": [
    "np.save('X_time_feature.npy', X)\n",
    "np.save('X_test_time_feature.npy', X_test)"
   ]
  },
  {
   "cell_type": "code",
   "execution_count": 10,
   "metadata": {},
   "outputs": [
    {
     "data": {
      "text/plain": [
       "(2904, 160, 57)"
      ]
     },
     "execution_count": 10,
     "metadata": {},
     "output_type": "execute_result"
    },
    {
     "data": {
      "text/plain": [
       "(6779, 160, 57)"
      ]
     },
     "execution_count": 10,
     "metadata": {},
     "output_type": "execute_result"
    }
   ],
   "source": [
    "X.shape\n",
    "X_test.shape"
   ]
  },
  {
   "cell_type": "code",
   "execution_count": 11,
   "metadata": {},
   "outputs": [],
   "source": [
    "data = np.concatenate([X, X_test])"
   ]
  },
  {
   "cell_type": "code",
   "execution_count": 12,
   "metadata": {},
   "outputs": [
    {
     "data": {
      "text/plain": [
       "(9683, 160, 57)"
      ]
     },
     "execution_count": 12,
     "metadata": {},
     "output_type": "execute_result"
    }
   ],
   "source": [
    "data.shape"
   ]
  },
  {
   "cell_type": "code",
   "execution_count": 13,
   "metadata": {},
   "outputs": [],
   "source": [
    "y = np.concatenate([np.zeros(len(X)), np.ones(len(X_test))])"
   ]
  },
  {
   "cell_type": "code",
   "execution_count": 14,
   "metadata": {},
   "outputs": [
    {
     "data": {
      "text/plain": [
       "(9683,)"
      ]
     },
     "execution_count": 14,
     "metadata": {},
     "output_type": "execute_result"
    }
   ],
   "source": [
    "y.shape"
   ]
  },
  {
   "cell_type": "code",
   "execution_count": 16,
   "metadata": {},
   "outputs": [],
   "source": [
    "X_train, X_val, y_train, y_val = train_test_split(data, y, test_size=0.2, random_state=42,\n",
    "                                                  stratify=y)"
   ]
  },
  {
   "cell_type": "code",
   "execution_count": 20,
   "metadata": {},
   "outputs": [],
   "source": [
    "model = modelutils.get_model('bidirectional_lstm', X_train.shape)"
   ]
  },
  {
   "cell_type": "code",
   "execution_count": 24,
   "metadata": {},
   "outputs": [
    {
     "name": "stdout",
     "output_type": "stream",
     "text": [
      "Train on 7746 samples, validate on 1937 samples\n",
      "Epoch 1/20\n",
      "7746/7746 [==============================] - 63s 8ms/step - loss: 0.6218 - acc: 0.6989 - val_loss: 0.6111 - val_acc: 0.7001\n",
      "\n",
      "Epoch 00001: val_loss improved from inf to 0.61114, saving model to adversarial_validation_model.h5\n",
      "Epoch 2/20\n",
      "7746/7746 [==============================] - 57s 7ms/step - loss: 0.6107 - acc: 0.7001 - val_loss: 0.6062 - val_acc: 0.7006\n",
      "\n",
      "Epoch 00002: val_loss improved from 0.61114 to 0.60616, saving model to adversarial_validation_model.h5\n",
      "Epoch 3/20\n",
      "7746/7746 [==============================] - 56s 7ms/step - loss: 0.5955 - acc: 0.7038 - val_loss: 0.6010 - val_acc: 0.7114\n",
      "\n",
      "Epoch 00003: val_loss improved from 0.60616 to 0.60103, saving model to adversarial_validation_model.h5\n",
      "Epoch 4/20\n",
      "7746/7746 [==============================] - 57s 7ms/step - loss: 0.5917 - acc: 0.7063 - val_loss: 0.5831 - val_acc: 0.7166\n",
      "\n",
      "Epoch 00004: val_loss improved from 0.60103 to 0.58307, saving model to adversarial_validation_model.h5\n",
      "Epoch 5/20\n",
      "7746/7746 [==============================] - 58s 7ms/step - loss: 0.5819 - acc: 0.7116 - val_loss: 0.5899 - val_acc: 0.7145\n",
      "\n",
      "Epoch 00005: val_loss did not improve from 0.58307\n",
      "Epoch 6/20\n",
      "7746/7746 [==============================] - 57s 7ms/step - loss: 0.5772 - acc: 0.7108 - val_loss: 0.5683 - val_acc: 0.7197\n",
      "\n",
      "Epoch 00006: val_loss improved from 0.58307 to 0.56830, saving model to adversarial_validation_model.h5\n",
      "Epoch 7/20\n",
      "7746/7746 [==============================] - 58s 7ms/step - loss: 0.5633 - acc: 0.7227 - val_loss: 0.5354 - val_acc: 0.7501\n",
      "\n",
      "Epoch 00007: val_loss improved from 0.56830 to 0.53544, saving model to adversarial_validation_model.h5\n",
      "Epoch 8/20\n",
      "7746/7746 [==============================] - 57s 7ms/step - loss: 0.5340 - acc: 0.7499 - val_loss: 0.5369 - val_acc: 0.7568\n",
      "\n",
      "Epoch 00008: val_loss did not improve from 0.53544\n",
      "Epoch 9/20\n",
      "7746/7746 [==============================] - 59s 8ms/step - loss: 0.5149 - acc: 0.7599 - val_loss: 0.4981 - val_acc: 0.7765\n",
      "\n",
      "Epoch 00009: val_loss improved from 0.53544 to 0.49805, saving model to adversarial_validation_model.h5\n",
      "Epoch 10/20\n",
      "7746/7746 [==============================] - 57s 7ms/step - loss: 0.4763 - acc: 0.7936 - val_loss: 0.4508 - val_acc: 0.8152\n",
      "\n",
      "Epoch 00010: val_loss improved from 0.49805 to 0.45083, saving model to adversarial_validation_model.h5\n",
      "Epoch 11/20\n",
      "7746/7746 [==============================] - 57s 7ms/step - loss: 0.5249 - acc: 0.7610 - val_loss: 0.6027 - val_acc: 0.7062\n",
      "\n",
      "Epoch 00011: val_loss did not improve from 0.45083\n",
      "Epoch 12/20\n",
      "7746/7746 [==============================] - 58s 7ms/step - loss: 0.5888 - acc: 0.7112 - val_loss: 0.5891 - val_acc: 0.7047\n",
      "\n",
      "Epoch 00012: val_loss did not improve from 0.45083\n",
      "Epoch 13/20\n",
      "7746/7746 [==============================] - 57s 7ms/step - loss: 0.5505 - acc: 0.7267 - val_loss: 0.5262 - val_acc: 0.7383\n",
      "\n",
      "Epoch 00013: val_loss did not improve from 0.45083\n",
      "Epoch 14/20\n",
      "7746/7746 [==============================] - 57s 7ms/step - loss: 0.5607 - acc: 0.7117 - val_loss: 0.5262 - val_acc: 0.7708\n",
      "\n",
      "Epoch 00014: val_loss did not improve from 0.45083\n",
      "Epoch 15/20\n",
      "7746/7746 [==============================] - 58s 7ms/step - loss: 0.4985 - acc: 0.7698 - val_loss: 0.5606 - val_acc: 0.7310\n",
      "\n",
      "Epoch 00015: val_loss did not improve from 0.45083\n",
      "Epoch 16/20\n",
      "7746/7746 [==============================] - 58s 8ms/step - loss: 0.4843 - acc: 0.7789 - val_loss: 0.4470 - val_acc: 0.8038\n",
      "\n",
      "Epoch 00016: val_loss improved from 0.45083 to 0.44705, saving model to adversarial_validation_model.h5\n",
      "Epoch 17/20\n",
      "7746/7746 [==============================] - 58s 7ms/step - loss: 0.4406 - acc: 0.8036 - val_loss: 0.6124 - val_acc: 0.6551\n",
      "\n",
      "Epoch 00017: val_loss did not improve from 0.44705\n",
      "Epoch 18/20\n",
      "7746/7746 [==============================] - 58s 7ms/step - loss: 0.4263 - acc: 0.8026 - val_loss: 0.3871 - val_acc: 0.8219\n",
      "\n",
      "Epoch 00018: val_loss improved from 0.44705 to 0.38708, saving model to adversarial_validation_model.h5\n",
      "Epoch 19/20\n",
      "7746/7746 [==============================] - 57s 7ms/step - loss: 0.3835 - acc: 0.8213 - val_loss: 0.3510 - val_acc: 0.8322\n",
      "\n",
      "Epoch 00019: val_loss improved from 0.38708 to 0.35095, saving model to adversarial_validation_model.h5\n",
      "Epoch 20/20\n",
      "7746/7746 [==============================] - 57s 7ms/step - loss: 0.3464 - acc: 0.8446 - val_loss: 0.4094 - val_acc: 0.7847\n",
      "\n",
      "Epoch 00020: val_loss did not improve from 0.35095\n"
     ]
    },
    {
     "data": {
      "text/plain": [
       "<keras.callbacks.History at 0x7fcd39a98908>"
      ]
     },
     "execution_count": 24,
     "metadata": {},
     "output_type": "execute_result"
    }
   ],
   "source": [
    "batch_size=128\n",
    "epoch=20\n",
    "model_path = 'adversarial_validation_model.h5'\n",
    "ckpt = ModelCheckpoint(model_path, save_best_only=True, \n",
    "                       save_weights_only=True, verbose=1, monitor='val_loss', mode='min')\n",
    "model.compile(loss='binary_crossentropy', optimizer='adam', metrics=['acc'])\n",
    "model.fit(X_train, y_train, batch_size=batchsize, epochs=epoch, validation_data=[X_val, y_val], \n",
    "          callbacks=[ckpt])\n"
   ]
  },
  {
   "cell_type": "code",
   "execution_count": 25,
   "metadata": {},
   "outputs": [],
   "source": [
    "model.load_weights(model_path)"
   ]
  },
  {
   "cell_type": "code",
   "execution_count": 26,
   "metadata": {},
   "outputs": [],
   "source": [
    "y_liketest = model.predict(X_val)"
   ]
  },
  {
   "cell_type": "code",
   "execution_count": 30,
   "metadata": {},
   "outputs": [
    {
     "data": {
      "text/plain": [
       "0.9016736985870155"
      ]
     },
     "execution_count": 30,
     "metadata": {},
     "output_type": "execute_result"
    }
   ],
   "source": [
    "fpr, tpr, _ = metrics.roc_curve(y_val, y_liketest.flatten())\n",
    "metrics.auc(fpr, tpr)"
   ]
  },
  {
   "cell_type": "code",
   "execution_count": 33,
   "metadata": {},
   "outputs": [
    {
     "data": {
      "text/plain": [
       "(9683, 160, 57)"
      ]
     },
     "execution_count": 33,
     "metadata": {},
     "output_type": "execute_result"
    },
    {
     "data": {
      "text/plain": [
       "(9683,)"
      ]
     },
     "execution_count": 33,
     "metadata": {},
     "output_type": "execute_result"
    }
   ],
   "source": [
    "data.shape\n",
    "y.shape"
   ]
  },
  {
   "cell_type": "code",
   "execution_count": 34,
   "metadata": {},
   "outputs": [
    {
     "name": "stdout",
     "output_type": "stream",
     "text": [
      "Epoch 1/20\n",
      "9683/9683 [==============================] - 68s 7ms/step - loss: 0.3508 - acc: 0.8446\n",
      "\n",
      "Epoch 00001: loss improved from inf to 0.35076, saving model to adversarial_validation_model.h5\n",
      "Epoch 2/20\n",
      "9683/9683 [==============================] - 67s 7ms/step - loss: 0.3279 - acc: 0.8524\n",
      "\n",
      "Epoch 00002: loss improved from 0.35076 to 0.32794, saving model to adversarial_validation_model.h5\n",
      "Epoch 3/20\n",
      "9683/9683 [==============================] - 67s 7ms/step - loss: 0.3128 - acc: 0.8617\n",
      "\n",
      "Epoch 00003: loss improved from 0.32794 to 0.31283, saving model to adversarial_validation_model.h5\n",
      "Epoch 4/20\n",
      "9683/9683 [==============================] - 66s 7ms/step - loss: 0.3076 - acc: 0.8669\n",
      "\n",
      "Epoch 00004: loss improved from 0.31283 to 0.30760, saving model to adversarial_validation_model.h5\n",
      "Epoch 5/20\n",
      "9683/9683 [==============================] - 66s 7ms/step - loss: 0.2850 - acc: 0.8763\n",
      "\n",
      "Epoch 00005: loss improved from 0.30760 to 0.28502, saving model to adversarial_validation_model.h5\n",
      "Epoch 6/20\n",
      "9683/9683 [==============================] - 66s 7ms/step - loss: 0.2824 - acc: 0.8784\n",
      "\n",
      "Epoch 00006: loss improved from 0.28502 to 0.28245, saving model to adversarial_validation_model.h5\n",
      "Epoch 7/20\n",
      "9683/9683 [==============================] - 64s 7ms/step - loss: 0.2510 - acc: 0.8939\n",
      "\n",
      "Epoch 00007: loss improved from 0.28245 to 0.25097, saving model to adversarial_validation_model.h5\n",
      "Epoch 8/20\n",
      "9683/9683 [==============================] - 67s 7ms/step - loss: 0.2682 - acc: 0.8864\n",
      "\n",
      "Epoch 00008: loss did not improve from 0.25097\n",
      "Epoch 9/20\n",
      "9683/9683 [==============================] - 66s 7ms/step - loss: 0.2489 - acc: 0.8960\n",
      "\n",
      "Epoch 00009: loss improved from 0.25097 to 0.24885, saving model to adversarial_validation_model.h5\n",
      "Epoch 10/20\n",
      "9683/9683 [==============================] - 67s 7ms/step - loss: 0.2219 - acc: 0.9078\n",
      "\n",
      "Epoch 00010: loss improved from 0.24885 to 0.22186, saving model to adversarial_validation_model.h5\n",
      "Epoch 11/20\n",
      "9683/9683 [==============================] - 67s 7ms/step - loss: 0.2337 - acc: 0.9000\n",
      "\n",
      "Epoch 00011: loss did not improve from 0.22186\n",
      "Epoch 12/20\n",
      "9683/9683 [==============================] - 66s 7ms/step - loss: 0.2223 - acc: 0.9096\n",
      "\n",
      "Epoch 00012: loss did not improve from 0.22186\n",
      "Epoch 13/20\n",
      "9683/9683 [==============================] - 66s 7ms/step - loss: 0.2194 - acc: 0.9082\n",
      "\n",
      "Epoch 00013: loss improved from 0.22186 to 0.21936, saving model to adversarial_validation_model.h5\n",
      "Epoch 14/20\n",
      "9683/9683 [==============================] - 65s 7ms/step - loss: 0.2157 - acc: 0.9127\n",
      "\n",
      "Epoch 00014: loss improved from 0.21936 to 0.21572, saving model to adversarial_validation_model.h5\n",
      "Epoch 15/20\n",
      "9683/9683 [==============================] - 66s 7ms/step - loss: 0.1990 - acc: 0.9189\n",
      "\n",
      "Epoch 00015: loss improved from 0.21572 to 0.19905, saving model to adversarial_validation_model.h5\n",
      "Epoch 16/20\n",
      "9683/9683 [==============================] - 66s 7ms/step - loss: 0.2088 - acc: 0.9161\n",
      "\n",
      "Epoch 00016: loss did not improve from 0.19905\n",
      "Epoch 17/20\n",
      "9683/9683 [==============================] - 67s 7ms/step - loss: 0.1917 - acc: 0.9240\n",
      "\n",
      "Epoch 00017: loss improved from 0.19905 to 0.19172, saving model to adversarial_validation_model.h5\n",
      "Epoch 18/20\n",
      "9683/9683 [==============================] - 65s 7ms/step - loss: 0.1921 - acc: 0.9243\n",
      "\n",
      "Epoch 00018: loss did not improve from 0.19172\n",
      "Epoch 19/20\n",
      "9683/9683 [==============================] - 66s 7ms/step - loss: 0.1921 - acc: 0.9216\n",
      "\n",
      "Epoch 00019: loss did not improve from 0.19172\n",
      "Epoch 20/20\n",
      "9683/9683 [==============================] - 65s 7ms/step - loss: 0.2002 - acc: 0.9184\n",
      "\n",
      "Epoch 00020: loss did not improve from 0.19172\n"
     ]
    },
    {
     "data": {
      "text/plain": [
       "<keras.callbacks.History at 0x7fccc42c0860>"
      ]
     },
     "execution_count": 34,
     "metadata": {},
     "output_type": "execute_result"
    }
   ],
   "source": [
    "model_path = 'adversarial_validation_model.h5'\n",
    "ckpt = ModelCheckpoint(model_path, save_best_only=True, \n",
    "                       save_weights_only=True, verbose=1, monitor='loss', mode='min')\n",
    "model.compile(loss='binary_crossentropy', optimizer='adam', metrics=['acc'])\n",
    "model.fit(data, y, batch_size=batchsize, epochs=epoch, callbacks=[ckpt])"
   ]
  },
  {
   "cell_type": "code",
   "execution_count": 48,
   "metadata": {},
   "outputs": [],
   "source": [
    "model.load_weights(model_path)\n",
    "y_liketest = model.predict(X)"
   ]
  },
  {
   "cell_type": "code",
   "execution_count": 49,
   "metadata": {},
   "outputs": [
    {
     "data": {
      "text/plain": [
       "array([[0.04013635],\n",
       "       [0.3329215 ],\n",
       "       [0.00359937],\n",
       "       ...,\n",
       "       [0.0047981 ],\n",
       "       [0.10642297],\n",
       "       [0.03010849]], dtype=float32)"
      ]
     },
     "execution_count": 49,
     "metadata": {},
     "output_type": "execute_result"
    }
   ],
   "source": [
    "y_liketest"
   ]
  },
  {
   "cell_type": "code",
   "execution_count": 50,
   "metadata": {},
   "outputs": [
    {
     "data": {
      "text/plain": [
       "[<matplotlib.lines.Line2D at 0x7fcbfc294860>]"
      ]
     },
     "execution_count": 50,
     "metadata": {},
     "output_type": "execute_result"
    },
    {
     "data": {
      "image/png": "[encoded data removed]",
      "text/plain": [
       "<Figure size 432x288 with 1 Axes>"
      ]
     },
     "metadata": {},
     "output_type": "display_data"
    }
   ],
   "source": [
    "plt.plot(np.sort(y_liketest.flatten()))"
   ]
  },
  {
   "cell_type": "code",
   "execution_count": 60,
   "metadata": {},
   "outputs": [],
   "source": [
    "val_group = np.argsort(y_liketest.flatten())[-290:]\n",
    "train_group = np.argsort(y_liketest.flatten())[:-290]"
   ]
  },
  {
   "cell_type": "code",
   "execution_count": 56,
   "metadata": {},
   "outputs": [
    {
     "data": {
      "text/plain": [
       "290"
      ]
     },
     "execution_count": 56,
     "metadata": {},
     "output_type": "execute_result"
    },
    {
     "data": {
      "text/plain": [
       "array([1838, 1532, 1171, 1123, 2826, 2532,  207, 1654, 1207, 1268, 2086,\n",
       "        557,  668, 2583,  174, 2149,  204,  510, 1908, 1509, 1865, 1003,\n",
       "       1158, 1853, 2172, 1058, 2039, 1554,   53, 1481,  975,  430,  878,\n",
       "       1694, 2843,  353, 2365, 1955, 1627,  460,  269, 1379, 1859, 1671,\n",
       "       1740, 1914,  966, 1653,  422, 1790, 1795, 1739, 2056,  495, 1826,\n",
       "       2096, 2022, 2114, 2266, 1211, 1082, 2035, 1186,  592, 2171,  586,\n",
       "       1426, 1423, 2023, 2807,  292, 2072, 1601, 1502,  789,  247, 1823,\n",
       "       2191, 1733, 1994, 1101,   95, 2341, 1833,  962, 1836, 1844,  248,\n",
       "        893,  873,  790, 2627, 2220,  575,  604, 2629, 2147, 2173, 2660,\n",
       "       1803, 1230,  637, 2055, 2054, 1784, 2193, 1489, 1642, 2278, 2833,\n",
       "        822,   78, 1930, 1011, 1485,  435, 2509, 2244, 1979, 1214, 1384,\n",
       "       1249, 1189, 2394,  898, 1585, 2633, 2860, 1045, 2468, 2042,  301,\n",
       "       2428,  159, 2897, 1656,  132, 1417,  792, 1899,  571, 1515,  968,\n",
       "       1913,   79, 1682, 1987,  443, 2078,   40, 2548, 2849,   39, 1780,\n",
       "       1267, 2734, 2635, 2399, 2306,  781, 1300, 2238, 2308, 2864, 1188,\n",
       "       1719,  607, 2131,  256, 1925, 2150,  728, 1538, 2899, 2827,  640,\n",
       "       2197,  857, 1880,  934, 1881,  841, 2520,  553, 1998, 1911, 1411,\n",
       "        797,  425,   11,  690,  674,  288, 2677,  838, 1713, 1093, 1050,\n",
       "        580, 2003, 1697, 2596, 1788,  900,  103, 1724,  965,  346, 2689,\n",
       "       1690,  630, 1469,  870, 1111, 2132, 2738,  526, 1206,  871, 2446,\n",
       "        885, 2516, 2712,   48, 1536,  415, 2041, 1875,  820, 2279,  649,\n",
       "       2464, 2664, 2878, 2618, 1110,  169,  798, 1147,  167, 1133,  796,\n",
       "        695, 1027, 2522, 1931, 1403,  945, 2587, 1981, 1902, 1560, 2845,\n",
       "       1418, 2806, 1932, 1069,  168, 1606, 2602, 1645,  182, 1765, 1995,\n",
       "       1494,  113, 2831, 2259, 2457,  505,   58,  543,  229, 1358, 1394,\n",
       "       2110, 1421, 1610, 2685, 2588, 2799,   46, 1467,   50, 1215, 2299,\n",
       "        576, 1072, 1548, 2163])"
      ]
     },
     "execution_count": 56,
     "metadata": {},
     "output_type": "execute_result"
    }
   ],
   "source": [
    "len(val_group)\n",
    "val_group"
   ]
  },
  {
   "cell_type": "code",
   "execution_count": 58,
   "metadata": {},
   "outputs": [
    {
     "data": {
      "text/plain": [
       "[<matplotlib.lines.Line2D at 0x7fcbfc22c6a0>]"
      ]
     },
     "execution_count": 58,
     "metadata": {},
     "output_type": "execute_result"
    },
    {
     "data": {
      "image/png": "[encoded data removed]",
      "text/plain": [
       "<Figure size 432x288 with 1 Axes>"
      ]
     },
     "metadata": {},
     "output_type": "display_data"
    }
   ],
   "source": [
    "plt.plot(y_liketest[val_group])"
   ]
  },
  {
   "cell_type": "code",
   "execution_count": 59,
   "metadata": {},
   "outputs": [],
   "source": [
    "np.save('adversrial_val_group.npy', val_group)"
   ]
  },
  {
   "cell_type": "code",
   "execution_count": 61,
   "metadata": {},
   "outputs": [
    {
     "data": {
      "text/plain": [
       "[<matplotlib.lines.Line2D at 0x7fcbe04177f0>]"
      ]
     },
     "execution_count": 61,
     "metadata": {},
     "output_type": "execute_result"
    },
    {
     "data": {
      "image/png": "[encoded data removed]",
      "text/plain": [
       "<Figure size 432x288 with 1 Axes>"
      ]
     },
     "metadata": {},
     "output_type": "display_data"
    }
   ],
   "source": [
    "plt.plot(y_liketest[train_group])"
   ]
  },
  {
   "cell_type": "code",
   "execution_count": 62,
   "metadata": {},
   "outputs": [],
   "source": [
    "np.save('adversarial_train_group.npy', train_group)"
   ]
  },
  {
   "cell_type": "code",
   "execution_count": 10,
   "metadata": {},
   "outputs": [],
   "source": [
    "train_group = np.load('adversarial_train_group.npy')\n",
    "val_group = np.load('adversarial_val_group.npy')"
   ]
  },
  {
   "cell_type": "code",
   "execution_count": 11,
   "metadata": {},
   "outputs": [],
   "source": [
    "y = dataset.labels[::3]"
   ]
  },
  {
   "cell_type": "code",
   "execution_count": 12,
   "metadata": {},
   "outputs": [],
   "source": [
    "y_train = y[train_group]\n",
    "y_val = y[val_group]"
   ]
  },
  {
   "cell_type": "code",
   "execution_count": 13,
   "metadata": {},
   "outputs": [
    {
     "data": {
      "text/plain": [
       "0.06273909716908951"
      ]
     },
     "execution_count": 13,
     "metadata": {},
     "output_type": "execute_result"
    },
    {
     "data": {
      "text/plain": [
       "0.04827586206896552"
      ]
     },
     "execution_count": 13,
     "metadata": {},
     "output_type": "execute_result"
    }
   ],
   "source": [
    "np.sum(y_train)/len(y_train)\n",
    "np.sum(y_val)/len(y_val)"
   ]
  },
  {
   "cell_type": "code",
   "execution_count": null,
   "metadata": {},
   "outputs": [],
   "source": []
  }
 ],
 "metadata": {
  "kernelspec": {
   "display_name": "Python 3",
   "language": "python",
   "name": "python3"
  },
  "language_info": {
   "codemirror_mode": {
    "name": "ipython",
    "version": 3
   },
   "file_extension": ".py",
   "mimetype": "text/x-python",
   "name": "python",
   "nbconvert_exporter": "python",
   "pygments_lexer": "ipython3",
   "version": "3.6.8"
  }
 },
 "nbformat": 4,
 "nbformat_minor": 2
}
